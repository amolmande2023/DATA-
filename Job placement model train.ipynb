{
 "cells": [
  {
   "cell_type": "code",
   "execution_count": 81,
   "id": "30659075",
   "metadata": {},
   "outputs": [],
   "source": [
    "import pandas as pd\n",
    "import numpy as np\n",
    "\n",
    "import config\n",
    "\n",
    "import pickle\n",
    "import json"
   ]
  },
  {
   "cell_type": "code",
   "execution_count": 80,
   "id": "427e47f4",
   "metadata": {},
   "outputs": [
    {
     "name": "stdout",
     "output_type": "stream",
     "text": [
      "Package              Version\n",
      "-------------------- -----------\n",
      "argon2-cffi          21.3.0\n",
      "argon2-cffi-bindings 21.2.0\n",
      "asttokens            2.0.8\n",
      "attrs                22.1.0\n",
      "backcall             0.2.0\n",
      "beautifulsoup4       4.11.1\n",
      "bleach               5.0.1\n",
      "cffi                 1.15.1\n",
      "click                8.1.3\n",
      "colorama             0.4.5\n",
      "contourpy            1.0.6\n",
      "cycler               0.11.0\n",
      "debugpy              1.6.3\n",
      "decorator            5.1.1\n",
      "defusedxml           0.7.1\n",
      "entrypoints          0.4\n",
      "et-xmlfile           1.1.0\n",
      "executing            1.0.0\n",
      "fastjsonschema       2.16.1\n",
      "Flask                2.2.2\n",
      "fonttools            4.38.0\n",
      "imbalanced-learn     0.10.1\n",
      "imblearn             0.0\n",
      "ipykernel            6.15.3\n",
      "ipython              8.5.0\n",
      "ipython-genutils     0.2.0\n",
      "ipywidgets           8.0.2\n",
      "itsdangerous         2.1.2\n",
      "jedi                 0.18.1\n",
      "Jinja2               3.1.2\n",
      "joblib               1.2.0\n",
      "jsonschema           4.16.0\n",
      "jupyter              1.0.0\n",
      "jupyter_client       7.3.5\n",
      "jupyter-console      6.4.4\n",
      "jupyter-core         4.11.1\n",
      "jupyterlab-pygments  0.2.2\n",
      "jupyterlab-widgets   3.0.3\n",
      "kiwisolver           1.4.4\n",
      "lxml                 4.9.1\n",
      "MarkupSafe           2.1.1\n",
      "matplotlib           3.6.2\n",
      "matplotlib-inline    0.1.6\n",
      "mistune              2.0.4\n",
      "nbclient             0.6.8\n",
      "nbconvert            7.0.0\n",
      "nbformat             5.5.0\n",
      "nest-asyncio         1.5.5\n",
      "notebook             6.4.12\n",
      "numpy                1.23.5\n",
      "openpyxl             3.0.10\n",
      "packaging            21.3\n",
      "pandas               1.5.2\n",
      "pandocfilters        1.5.0\n",
      "parso                0.8.3\n",
      "patsy                0.5.3\n",
      "pickleshare          0.7.5\n",
      "Pillow               9.3.0\n",
      "pip                  23.0\n",
      "plotly               5.12.0\n",
      "prometheus-client    0.14.1\n",
      "prompt-toolkit       3.0.31\n",
      "psutil               5.9.2\n",
      "pure-eval            0.2.2\n",
      "pycparser            2.21\n",
      "Pygments             2.13.0\n",
      "pyparsing            3.0.9\n",
      "pyrsistent           0.18.1\n",
      "python-dateutil      2.8.2\n",
      "pytz                 2022.6\n",
      "pywin32              304\n",
      "pywinpty             2.0.8\n",
      "pyzmq                24.0.0\n",
      "qtconsole            5.3.2\n",
      "QtPy                 2.2.0\n",
      "scikit-learn         1.2.0\n",
      "scipy                1.9.3\n",
      "seaborn              0.12.1\n",
      "Send2Trash           1.8.0\n",
      "setuptools           63.2.0\n",
      "six                  1.16.0\n",
      "sklearn              0.0.post1\n",
      "soupsieve            2.3.2.post1\n",
      "stack-data           0.5.0\n",
      "statsmodels          0.13.5\n",
      "tenacity             8.1.0\n",
      "terminado            0.15.0\n",
      "threadpoolctl        3.1.0\n",
      "tinycss2             1.1.1\n",
      "tornado              6.2\n",
      "traitlets            5.4.0\n",
      "wcwidth              0.2.5\n",
      "webencodings         0.5.1\n",
      "Werkzeug             2.2.2\n",
      "widgetsnbextension   4.0.3\n",
      "Note: you may need to restart the kernel to use updated packages.\n"
     ]
    }
   ],
   "source": [
    "pip list"
   ]
  },
  {
   "cell_type": "code",
   "execution_count": 3,
   "id": "6dbd5ea1",
   "metadata": {},
   "outputs": [],
   "source": [
    "# config.Csv_File_Path\n",
    "# config.Model_File_Path\n",
    "# config.Json_File_Path\n",
    "# config.Port_Number\n"
   ]
  },
  {
   "cell_type": "code",
   "execution_count": null,
   "id": "8cb7ce8a",
   "metadata": {},
   "outputs": [],
   "source": []
  },
  {
   "cell_type": "code",
   "execution_count": 82,
   "id": "e559a742",
   "metadata": {
    "scrolled": false
   },
   "outputs": [
    {
     "data": {
      "text/html": [
       "<div>\n",
       "<style scoped>\n",
       "    .dataframe tbody tr th:only-of-type {\n",
       "        vertical-align: middle;\n",
       "    }\n",
       "\n",
       "    .dataframe tbody tr th {\n",
       "        vertical-align: top;\n",
       "    }\n",
       "\n",
       "    .dataframe thead th {\n",
       "        text-align: right;\n",
       "    }\n",
       "</style>\n",
       "<table border=\"1\" class=\"dataframe\">\n",
       "  <thead>\n",
       "    <tr style=\"text-align: right;\">\n",
       "      <th></th>\n",
       "      <th>gender</th>\n",
       "      <th>ssc_percentage</th>\n",
       "      <th>ssc_board</th>\n",
       "      <th>hsc_percentage</th>\n",
       "      <th>hsc_board</th>\n",
       "      <th>hsc_subject</th>\n",
       "      <th>degree_percentage</th>\n",
       "      <th>undergrad_degree</th>\n",
       "      <th>work_experience</th>\n",
       "      <th>emp_test_percentage</th>\n",
       "      <th>specialisation</th>\n",
       "      <th>mba_percent</th>\n",
       "      <th>status</th>\n",
       "    </tr>\n",
       "  </thead>\n",
       "  <tbody>\n",
       "    <tr>\n",
       "      <th>0</th>\n",
       "      <td>M</td>\n",
       "      <td>67.00</td>\n",
       "      <td>Others</td>\n",
       "      <td>91.00</td>\n",
       "      <td>Others</td>\n",
       "      <td>Commerce</td>\n",
       "      <td>58.00</td>\n",
       "      <td>Sci&amp;Tech</td>\n",
       "      <td>No</td>\n",
       "      <td>55.0</td>\n",
       "      <td>Mkt&amp;HR</td>\n",
       "      <td>58.80</td>\n",
       "      <td>Placed</td>\n",
       "    </tr>\n",
       "    <tr>\n",
       "      <th>1</th>\n",
       "      <td>M</td>\n",
       "      <td>79.33</td>\n",
       "      <td>Central</td>\n",
       "      <td>78.33</td>\n",
       "      <td>Others</td>\n",
       "      <td>Science</td>\n",
       "      <td>77.48</td>\n",
       "      <td>Sci&amp;Tech</td>\n",
       "      <td>Yes</td>\n",
       "      <td>86.5</td>\n",
       "      <td>Mkt&amp;Fin</td>\n",
       "      <td>66.28</td>\n",
       "      <td>Placed</td>\n",
       "    </tr>\n",
       "    <tr>\n",
       "      <th>2</th>\n",
       "      <td>M</td>\n",
       "      <td>65.00</td>\n",
       "      <td>Central</td>\n",
       "      <td>68.00</td>\n",
       "      <td>Central</td>\n",
       "      <td>Arts</td>\n",
       "      <td>64.00</td>\n",
       "      <td>Comm&amp;Mgmt</td>\n",
       "      <td>No</td>\n",
       "      <td>75.0</td>\n",
       "      <td>Mkt&amp;Fin</td>\n",
       "      <td>57.80</td>\n",
       "      <td>Placed</td>\n",
       "    </tr>\n",
       "    <tr>\n",
       "      <th>3</th>\n",
       "      <td>M</td>\n",
       "      <td>56.00</td>\n",
       "      <td>Central</td>\n",
       "      <td>52.00</td>\n",
       "      <td>Central</td>\n",
       "      <td>Science</td>\n",
       "      <td>52.00</td>\n",
       "      <td>Sci&amp;Tech</td>\n",
       "      <td>No</td>\n",
       "      <td>66.0</td>\n",
       "      <td>Mkt&amp;HR</td>\n",
       "      <td>59.43</td>\n",
       "      <td>Not Placed</td>\n",
       "    </tr>\n",
       "    <tr>\n",
       "      <th>4</th>\n",
       "      <td>M</td>\n",
       "      <td>85.80</td>\n",
       "      <td>Central</td>\n",
       "      <td>73.60</td>\n",
       "      <td>Central</td>\n",
       "      <td>Commerce</td>\n",
       "      <td>73.30</td>\n",
       "      <td>Comm&amp;Mgmt</td>\n",
       "      <td>No</td>\n",
       "      <td>96.8</td>\n",
       "      <td>Mkt&amp;Fin</td>\n",
       "      <td>55.50</td>\n",
       "      <td>Placed</td>\n",
       "    </tr>\n",
       "    <tr>\n",
       "      <th>...</th>\n",
       "      <td>...</td>\n",
       "      <td>...</td>\n",
       "      <td>...</td>\n",
       "      <td>...</td>\n",
       "      <td>...</td>\n",
       "      <td>...</td>\n",
       "      <td>...</td>\n",
       "      <td>...</td>\n",
       "      <td>...</td>\n",
       "      <td>...</td>\n",
       "      <td>...</td>\n",
       "      <td>...</td>\n",
       "      <td>...</td>\n",
       "    </tr>\n",
       "    <tr>\n",
       "      <th>210</th>\n",
       "      <td>M</td>\n",
       "      <td>80.60</td>\n",
       "      <td>Others</td>\n",
       "      <td>82.00</td>\n",
       "      <td>Others</td>\n",
       "      <td>Commerce</td>\n",
       "      <td>77.60</td>\n",
       "      <td>Comm&amp;Mgmt</td>\n",
       "      <td>No</td>\n",
       "      <td>91.0</td>\n",
       "      <td>Mkt&amp;Fin</td>\n",
       "      <td>74.49</td>\n",
       "      <td>Placed</td>\n",
       "    </tr>\n",
       "    <tr>\n",
       "      <th>211</th>\n",
       "      <td>M</td>\n",
       "      <td>58.00</td>\n",
       "      <td>Others</td>\n",
       "      <td>60.00</td>\n",
       "      <td>Others</td>\n",
       "      <td>Science</td>\n",
       "      <td>72.00</td>\n",
       "      <td>Sci&amp;Tech</td>\n",
       "      <td>No</td>\n",
       "      <td>74.0</td>\n",
       "      <td>Mkt&amp;Fin</td>\n",
       "      <td>53.62</td>\n",
       "      <td>Placed</td>\n",
       "    </tr>\n",
       "    <tr>\n",
       "      <th>212</th>\n",
       "      <td>M</td>\n",
       "      <td>67.00</td>\n",
       "      <td>Others</td>\n",
       "      <td>67.00</td>\n",
       "      <td>Others</td>\n",
       "      <td>Commerce</td>\n",
       "      <td>73.00</td>\n",
       "      <td>Comm&amp;Mgmt</td>\n",
       "      <td>Yes</td>\n",
       "      <td>59.0</td>\n",
       "      <td>Mkt&amp;Fin</td>\n",
       "      <td>69.72</td>\n",
       "      <td>Placed</td>\n",
       "    </tr>\n",
       "    <tr>\n",
       "      <th>213</th>\n",
       "      <td>F</td>\n",
       "      <td>74.00</td>\n",
       "      <td>Others</td>\n",
       "      <td>66.00</td>\n",
       "      <td>Others</td>\n",
       "      <td>Commerce</td>\n",
       "      <td>58.00</td>\n",
       "      <td>Comm&amp;Mgmt</td>\n",
       "      <td>No</td>\n",
       "      <td>70.0</td>\n",
       "      <td>Mkt&amp;HR</td>\n",
       "      <td>60.23</td>\n",
       "      <td>Placed</td>\n",
       "    </tr>\n",
       "    <tr>\n",
       "      <th>214</th>\n",
       "      <td>M</td>\n",
       "      <td>62.00</td>\n",
       "      <td>Central</td>\n",
       "      <td>58.00</td>\n",
       "      <td>Others</td>\n",
       "      <td>Science</td>\n",
       "      <td>53.00</td>\n",
       "      <td>Comm&amp;Mgmt</td>\n",
       "      <td>No</td>\n",
       "      <td>89.0</td>\n",
       "      <td>Mkt&amp;HR</td>\n",
       "      <td>60.22</td>\n",
       "      <td>Not Placed</td>\n",
       "    </tr>\n",
       "  </tbody>\n",
       "</table>\n",
       "<p>215 rows × 13 columns</p>\n",
       "</div>"
      ],
      "text/plain": [
       "    gender  ssc_percentage ssc_board  hsc_percentage hsc_board hsc_subject  \\\n",
       "0        M           67.00    Others           91.00    Others    Commerce   \n",
       "1        M           79.33   Central           78.33    Others     Science   \n",
       "2        M           65.00   Central           68.00   Central        Arts   \n",
       "3        M           56.00   Central           52.00   Central     Science   \n",
       "4        M           85.80   Central           73.60   Central    Commerce   \n",
       "..     ...             ...       ...             ...       ...         ...   \n",
       "210      M           80.60    Others           82.00    Others    Commerce   \n",
       "211      M           58.00    Others           60.00    Others     Science   \n",
       "212      M           67.00    Others           67.00    Others    Commerce   \n",
       "213      F           74.00    Others           66.00    Others    Commerce   \n",
       "214      M           62.00   Central           58.00    Others     Science   \n",
       "\n",
       "     degree_percentage undergrad_degree work_experience  emp_test_percentage  \\\n",
       "0                58.00         Sci&Tech              No                 55.0   \n",
       "1                77.48         Sci&Tech             Yes                 86.5   \n",
       "2                64.00        Comm&Mgmt              No                 75.0   \n",
       "3                52.00         Sci&Tech              No                 66.0   \n",
       "4                73.30        Comm&Mgmt              No                 96.8   \n",
       "..                 ...              ...             ...                  ...   \n",
       "210              77.60        Comm&Mgmt              No                 91.0   \n",
       "211              72.00         Sci&Tech              No                 74.0   \n",
       "212              73.00        Comm&Mgmt             Yes                 59.0   \n",
       "213              58.00        Comm&Mgmt              No                 70.0   \n",
       "214              53.00        Comm&Mgmt              No                 89.0   \n",
       "\n",
       "    specialisation  mba_percent      status  \n",
       "0           Mkt&HR        58.80      Placed  \n",
       "1          Mkt&Fin        66.28      Placed  \n",
       "2          Mkt&Fin        57.80      Placed  \n",
       "3           Mkt&HR        59.43  Not Placed  \n",
       "4          Mkt&Fin        55.50      Placed  \n",
       "..             ...          ...         ...  \n",
       "210        Mkt&Fin        74.49      Placed  \n",
       "211        Mkt&Fin        53.62      Placed  \n",
       "212        Mkt&Fin        69.72      Placed  \n",
       "213         Mkt&HR        60.23      Placed  \n",
       "214         Mkt&HR        60.22  Not Placed  \n",
       "\n",
       "[215 rows x 13 columns]"
      ]
     },
     "execution_count": 82,
     "metadata": {},
     "output_type": "execute_result"
    }
   ],
   "source": [
    "df = pd.read_csv(r\"D:\\DATA SCIENCE AND PYTHON 2022\\practice of python\\12.4 flask\\23_01_23_Flask_Medical_Insurence\\practice\\Csv_File\\Job_Placement_Data.csv\")\n",
    "df"
   ]
  },
  {
   "cell_type": "code",
   "execution_count": 83,
   "id": "321d84c4",
   "metadata": {},
   "outputs": [
    {
     "name": "stdout",
     "output_type": "stream",
     "text": [
      "<class 'pandas.core.frame.DataFrame'>\n",
      "RangeIndex: 215 entries, 0 to 214\n",
      "Data columns (total 13 columns):\n",
      " #   Column               Non-Null Count  Dtype  \n",
      "---  ------               --------------  -----  \n",
      " 0   gender               215 non-null    object \n",
      " 1   ssc_percentage       215 non-null    float64\n",
      " 2   ssc_board            215 non-null    object \n",
      " 3   hsc_percentage       215 non-null    float64\n",
      " 4   hsc_board            215 non-null    object \n",
      " 5   hsc_subject          215 non-null    object \n",
      " 6   degree_percentage    215 non-null    float64\n",
      " 7   undergrad_degree     215 non-null    object \n",
      " 8   work_experience      215 non-null    object \n",
      " 9   emp_test_percentage  215 non-null    float64\n",
      " 10  specialisation       215 non-null    object \n",
      " 11  mba_percent          215 non-null    float64\n",
      " 12  status               215 non-null    object \n",
      "dtypes: float64(5), object(8)\n",
      "memory usage: 22.0+ KB\n"
     ]
    }
   ],
   "source": [
    "df.info()"
   ]
  },
  {
   "cell_type": "code",
   "execution_count": 84,
   "id": "7f4e5bdc",
   "metadata": {},
   "outputs": [
    {
     "data": {
      "text/plain": [
       "Placed        148\n",
       "Not Placed     67\n",
       "Name: status, dtype: int64"
      ]
     },
     "execution_count": 84,
     "metadata": {},
     "output_type": "execute_result"
    }
   ],
   "source": [
    "df[\"status\"].value_counts()"
   ]
  },
  {
   "cell_type": "code",
   "execution_count": 85,
   "id": "e78930fa",
   "metadata": {},
   "outputs": [
    {
     "data": {
      "text/plain": [
       "0.3116279069767442"
      ]
     },
     "execution_count": 85,
     "metadata": {},
     "output_type": "execute_result"
    }
   ],
   "source": [
    "67/(148+67)"
   ]
  },
  {
   "cell_type": "code",
   "execution_count": 86,
   "id": "648ca72c",
   "metadata": {},
   "outputs": [
    {
     "data": {
      "text/plain": [
       "{'M': 139, 'F': 76}"
      ]
     },
     "execution_count": 86,
     "metadata": {},
     "output_type": "execute_result"
    }
   ],
   "source": [
    "df[\"gender\"].value_counts().to_dict()"
   ]
  },
  {
   "cell_type": "code",
   "execution_count": 87,
   "id": "0ce73c6f",
   "metadata": {},
   "outputs": [],
   "source": [
    "df[\"gender\"].replace({'M': 1, 'F': 0},inplace=True)"
   ]
  },
  {
   "cell_type": "code",
   "execution_count": 88,
   "id": "06ec5462",
   "metadata": {},
   "outputs": [],
   "source": [
    "# df.info()"
   ]
  },
  {
   "cell_type": "code",
   "execution_count": 89,
   "id": "932ddd80",
   "metadata": {},
   "outputs": [
    {
     "data": {
      "text/plain": [
       "{'Central': 116, 'Others': 99}"
      ]
     },
     "execution_count": 89,
     "metadata": {},
     "output_type": "execute_result"
    }
   ],
   "source": [
    "df[\"ssc_board\"].value_counts().to_dict()"
   ]
  },
  {
   "cell_type": "code",
   "execution_count": 90,
   "id": "b119f6b2",
   "metadata": {},
   "outputs": [],
   "source": [
    "df[\"ssc_board\"].replace({'Central': 1, 'Others': 0},inplace = True)"
   ]
  },
  {
   "cell_type": "code",
   "execution_count": 91,
   "id": "8a578a6b",
   "metadata": {},
   "outputs": [],
   "source": [
    "# df.info()"
   ]
  },
  {
   "cell_type": "code",
   "execution_count": 92,
   "id": "3c59d083",
   "metadata": {},
   "outputs": [
    {
     "data": {
      "text/plain": [
       "{'Others': 131, 'Central': 84}"
      ]
     },
     "execution_count": 92,
     "metadata": {},
     "output_type": "execute_result"
    }
   ],
   "source": [
    "df['hsc_board'].value_counts().to_dict()"
   ]
  },
  {
   "cell_type": "code",
   "execution_count": 93,
   "id": "4500e2a6",
   "metadata": {},
   "outputs": [],
   "source": [
    "df['hsc_board'].replace({'Others': 1, 'Central': 0},inplace = True)"
   ]
  },
  {
   "cell_type": "code",
   "execution_count": 94,
   "id": "5d40373d",
   "metadata": {},
   "outputs": [],
   "source": [
    "# df.info()"
   ]
  },
  {
   "cell_type": "code",
   "execution_count": 95,
   "id": "59a61b8f",
   "metadata": {
    "scrolled": true
   },
   "outputs": [
    {
     "data": {
      "text/plain": [
       "Commerce    113\n",
       "Science      91\n",
       "Arts         11\n",
       "Name: hsc_subject, dtype: int64"
      ]
     },
     "execution_count": 95,
     "metadata": {},
     "output_type": "execute_result"
    }
   ],
   "source": [
    "df[\"hsc_subject\"].value_counts()"
   ]
  },
  {
   "cell_type": "code",
   "execution_count": 96,
   "id": "9c6aa0d7",
   "metadata": {},
   "outputs": [],
   "source": [
    "df = pd.get_dummies(df,columns=[\"hsc_subject\"])"
   ]
  },
  {
   "cell_type": "code",
   "execution_count": 97,
   "id": "4f14576d",
   "metadata": {},
   "outputs": [],
   "source": [
    "# df.info()"
   ]
  },
  {
   "cell_type": "code",
   "execution_count": 98,
   "id": "4ea68de8",
   "metadata": {},
   "outputs": [
    {
     "data": {
      "text/plain": [
       "Comm&Mgmt    145\n",
       "Sci&Tech      59\n",
       "Others        11\n",
       "Name: undergrad_degree, dtype: int64"
      ]
     },
     "execution_count": 98,
     "metadata": {},
     "output_type": "execute_result"
    }
   ],
   "source": [
    "df[\"undergrad_degree\"].value_counts()"
   ]
  },
  {
   "cell_type": "code",
   "execution_count": 99,
   "id": "93c395c3",
   "metadata": {},
   "outputs": [],
   "source": [
    "df = pd.get_dummies(df,columns=[\"undergrad_degree\"])"
   ]
  },
  {
   "cell_type": "code",
   "execution_count": 100,
   "id": "136f7ed4",
   "metadata": {},
   "outputs": [],
   "source": [
    "# df.info()"
   ]
  },
  {
   "cell_type": "code",
   "execution_count": 101,
   "id": "8ec9693e",
   "metadata": {},
   "outputs": [
    {
     "data": {
      "text/plain": [
       "{'No': 141, 'Yes': 74}"
      ]
     },
     "execution_count": 101,
     "metadata": {},
     "output_type": "execute_result"
    }
   ],
   "source": [
    "df[\"work_experience\"].value_counts().to_dict()"
   ]
  },
  {
   "cell_type": "code",
   "execution_count": 102,
   "id": "7a2eac3d",
   "metadata": {},
   "outputs": [],
   "source": [
    "df[\"work_experience\"].replace({'No': 1, 'Yes':0},inplace=True)"
   ]
  },
  {
   "cell_type": "code",
   "execution_count": 103,
   "id": "34c8bb4a",
   "metadata": {},
   "outputs": [],
   "source": [
    "# df.info()"
   ]
  },
  {
   "cell_type": "code",
   "execution_count": 104,
   "id": "fade36f4",
   "metadata": {},
   "outputs": [
    {
     "data": {
      "text/plain": [
       "{'Mkt&Fin': 120, 'Mkt&HR': 95}"
      ]
     },
     "execution_count": 104,
     "metadata": {},
     "output_type": "execute_result"
    }
   ],
   "source": [
    "df[\"specialisation\"].value_counts().to_dict()"
   ]
  },
  {
   "cell_type": "code",
   "execution_count": 105,
   "id": "36b402fe",
   "metadata": {},
   "outputs": [],
   "source": [
    "df[\"specialisation\"].replace({'Mkt&Fin': 1, 'Mkt&HR': 0},inplace=True)"
   ]
  },
  {
   "cell_type": "code",
   "execution_count": 106,
   "id": "7fcb158a",
   "metadata": {},
   "outputs": [],
   "source": [
    "# df.info()"
   ]
  },
  {
   "cell_type": "code",
   "execution_count": 107,
   "id": "ae2306df",
   "metadata": {},
   "outputs": [
    {
     "data": {
      "text/plain": [
       "{'Placed': 148, 'Not Placed': 67}"
      ]
     },
     "execution_count": 107,
     "metadata": {},
     "output_type": "execute_result"
    }
   ],
   "source": [
    "df[\"status\"].value_counts().to_dict()"
   ]
  },
  {
   "cell_type": "code",
   "execution_count": 108,
   "id": "708f3bf1",
   "metadata": {},
   "outputs": [],
   "source": [
    "df[\"status\"].replace({'Placed': 1, 'Not Placed': 0},inplace= True)"
   ]
  },
  {
   "cell_type": "code",
   "execution_count": 109,
   "id": "5a1e8e41",
   "metadata": {},
   "outputs": [],
   "source": [
    "# df[\"status\"].value_counts().to_dict()"
   ]
  },
  {
   "cell_type": "code",
   "execution_count": 110,
   "id": "dd4a7694",
   "metadata": {},
   "outputs": [
    {
     "name": "stdout",
     "output_type": "stream",
     "text": [
      "<class 'pandas.core.frame.DataFrame'>\n",
      "RangeIndex: 215 entries, 0 to 214\n",
      "Data columns (total 17 columns):\n",
      " #   Column                      Non-Null Count  Dtype  \n",
      "---  ------                      --------------  -----  \n",
      " 0   gender                      215 non-null    int64  \n",
      " 1   ssc_percentage              215 non-null    float64\n",
      " 2   ssc_board                   215 non-null    int64  \n",
      " 3   hsc_percentage              215 non-null    float64\n",
      " 4   hsc_board                   215 non-null    int64  \n",
      " 5   degree_percentage           215 non-null    float64\n",
      " 6   work_experience             215 non-null    int64  \n",
      " 7   emp_test_percentage         215 non-null    float64\n",
      " 8   specialisation              215 non-null    int64  \n",
      " 9   mba_percent                 215 non-null    float64\n",
      " 10  status                      215 non-null    int64  \n",
      " 11  hsc_subject_Arts            215 non-null    uint8  \n",
      " 12  hsc_subject_Commerce        215 non-null    uint8  \n",
      " 13  hsc_subject_Science         215 non-null    uint8  \n",
      " 14  undergrad_degree_Comm&Mgmt  215 non-null    uint8  \n",
      " 15  undergrad_degree_Others     215 non-null    uint8  \n",
      " 16  undergrad_degree_Sci&Tech   215 non-null    uint8  \n",
      "dtypes: float64(5), int64(6), uint8(6)\n",
      "memory usage: 19.9 KB\n"
     ]
    }
   ],
   "source": [
    "df.info()"
   ]
  },
  {
   "cell_type": "code",
   "execution_count": null,
   "id": "9c2aab34",
   "metadata": {},
   "outputs": [],
   "source": []
  },
  {
   "cell_type": "markdown",
   "id": "6a1468c2",
   "metadata": {},
   "source": [
    "### sampling"
   ]
  },
  {
   "cell_type": "markdown",
   "id": "7fc4b32c",
   "metadata": {},
   "source": [
    "##### use oversanpling"
   ]
  },
  {
   "cell_type": "markdown",
   "id": "8cb7a1ab",
   "metadata": {},
   "source": [
    "It is use minorty class impcat "
   ]
  },
  {
   "cell_type": "markdown",
   "id": "8dc886f4",
   "metadata": {},
   "source": [
    "##### 1.SMOTE"
   ]
  },
  {
   "cell_type": "markdown",
   "id": "4dc03200",
   "metadata": {},
   "source": [
    "it is minor duplicate rows impcat"
   ]
  },
  {
   "cell_type": "code",
   "execution_count": 111,
   "id": "7e36da9e",
   "metadata": {},
   "outputs": [],
   "source": [
    "from imblearn.over_sampling import SMOTE"
   ]
  },
  {
   "cell_type": "code",
   "execution_count": 112,
   "id": "87480821",
   "metadata": {},
   "outputs": [
    {
     "data": {
      "text/plain": [
       "1    148\n",
       "0    118\n",
       "Name: status, dtype: int64"
      ]
     },
     "execution_count": 112,
     "metadata": {},
     "output_type": "execute_result"
    }
   ],
   "source": [
    "x = df.drop('status',axis = 1)\n",
    "y = df['status']\n",
    "smote_oversampler = SMOTE(sampling_strategy=0.8, random_state=23)\n",
    "x_sampled, y_sampled = smote_oversampler.fit_resample(x,y)\n",
    "y_sampled.value_counts()"
   ]
  },
  {
   "cell_type": "markdown",
   "id": "2d8d26b4",
   "metadata": {},
   "source": [
    "### Model Evaluation"
   ]
  },
  {
   "cell_type": "code",
   "execution_count": 113,
   "id": "45652a37",
   "metadata": {},
   "outputs": [],
   "source": [
    "from sklearn.model_selection import train_test_split,GridSearchCV,RandomizedSearchCV\n",
    "from sklearn.linear_model import LogisticRegression,RidgeClassifier\n",
    "from sklearn.metrics import confusion_matrix,accuracy_score,classification_report\n",
    "from sklearn.metrics import precision_score,recall_score,f1_score\n",
    "from sklearn.metrics import roc_curve,roc_auc_score\n",
    "\n",
    "from sklearn.neighbors import KNeighborsClassifier,KNeighborsRegressor\n",
    "\n",
    "import matplotlib.pyplot as plt"
   ]
  },
  {
   "cell_type": "code",
   "execution_count": 114,
   "id": "b81f1b78",
   "metadata": {},
   "outputs": [],
   "source": [
    "x_train,x_test,y_train,y_test = train_test_split(x_sampled, y_sampled,test_size=0.3 , random_state=34,stratify=y_sampled)"
   ]
  },
  {
   "cell_type": "code",
   "execution_count": 115,
   "id": "223df1d1",
   "metadata": {},
   "outputs": [
    {
     "name": "stderr",
     "output_type": "stream",
     "text": [
      "C:\\Users\\amol\\AppData\\Local\\Programs\\Python\\Python310\\lib\\site-packages\\sklearn\\linear_model\\_logistic.py:458: ConvergenceWarning: lbfgs failed to converge (status=1):\n",
      "STOP: TOTAL NO. of ITERATIONS REACHED LIMIT.\n",
      "\n",
      "Increase the number of iterations (max_iter) or scale the data as shown in:\n",
      "    https://scikit-learn.org/stable/modules/preprocessing.html\n",
      "Please also refer to the documentation for alternative solver options:\n",
      "    https://scikit-learn.org/stable/modules/linear_model.html#logistic-regression\n",
      "  n_iter_i = _check_optimize_result(\n"
     ]
    },
    {
     "data": {
      "text/html": [
       "<style>#sk-container-id-3 {color: black;background-color: white;}#sk-container-id-3 pre{padding: 0;}#sk-container-id-3 div.sk-toggleable {background-color: white;}#sk-container-id-3 label.sk-toggleable__label {cursor: pointer;display: block;width: 100%;margin-bottom: 0;padding: 0.3em;box-sizing: border-box;text-align: center;}#sk-container-id-3 label.sk-toggleable__label-arrow:before {content: \"▸\";float: left;margin-right: 0.25em;color: #696969;}#sk-container-id-3 label.sk-toggleable__label-arrow:hover:before {color: black;}#sk-container-id-3 div.sk-estimator:hover label.sk-toggleable__label-arrow:before {color: black;}#sk-container-id-3 div.sk-toggleable__content {max-height: 0;max-width: 0;overflow: hidden;text-align: left;background-color: #f0f8ff;}#sk-container-id-3 div.sk-toggleable__content pre {margin: 0.2em;color: black;border-radius: 0.25em;background-color: #f0f8ff;}#sk-container-id-3 input.sk-toggleable__control:checked~div.sk-toggleable__content {max-height: 200px;max-width: 100%;overflow: auto;}#sk-container-id-3 input.sk-toggleable__control:checked~label.sk-toggleable__label-arrow:before {content: \"▾\";}#sk-container-id-3 div.sk-estimator input.sk-toggleable__control:checked~label.sk-toggleable__label {background-color: #d4ebff;}#sk-container-id-3 div.sk-label input.sk-toggleable__control:checked~label.sk-toggleable__label {background-color: #d4ebff;}#sk-container-id-3 input.sk-hidden--visually {border: 0;clip: rect(1px 1px 1px 1px);clip: rect(1px, 1px, 1px, 1px);height: 1px;margin: -1px;overflow: hidden;padding: 0;position: absolute;width: 1px;}#sk-container-id-3 div.sk-estimator {font-family: monospace;background-color: #f0f8ff;border: 1px dotted black;border-radius: 0.25em;box-sizing: border-box;margin-bottom: 0.5em;}#sk-container-id-3 div.sk-estimator:hover {background-color: #d4ebff;}#sk-container-id-3 div.sk-parallel-item::after {content: \"\";width: 100%;border-bottom: 1px solid gray;flex-grow: 1;}#sk-container-id-3 div.sk-label:hover label.sk-toggleable__label {background-color: #d4ebff;}#sk-container-id-3 div.sk-serial::before {content: \"\";position: absolute;border-left: 1px solid gray;box-sizing: border-box;top: 0;bottom: 0;left: 50%;z-index: 0;}#sk-container-id-3 div.sk-serial {display: flex;flex-direction: column;align-items: center;background-color: white;padding-right: 0.2em;padding-left: 0.2em;position: relative;}#sk-container-id-3 div.sk-item {position: relative;z-index: 1;}#sk-container-id-3 div.sk-parallel {display: flex;align-items: stretch;justify-content: center;background-color: white;position: relative;}#sk-container-id-3 div.sk-item::before, #sk-container-id-3 div.sk-parallel-item::before {content: \"\";position: absolute;border-left: 1px solid gray;box-sizing: border-box;top: 0;bottom: 0;left: 50%;z-index: -1;}#sk-container-id-3 div.sk-parallel-item {display: flex;flex-direction: column;z-index: 1;position: relative;background-color: white;}#sk-container-id-3 div.sk-parallel-item:first-child::after {align-self: flex-end;width: 50%;}#sk-container-id-3 div.sk-parallel-item:last-child::after {align-self: flex-start;width: 50%;}#sk-container-id-3 div.sk-parallel-item:only-child::after {width: 0;}#sk-container-id-3 div.sk-dashed-wrapped {border: 1px dashed gray;margin: 0 0.4em 0.5em 0.4em;box-sizing: border-box;padding-bottom: 0.4em;background-color: white;}#sk-container-id-3 div.sk-label label {font-family: monospace;font-weight: bold;display: inline-block;line-height: 1.2em;}#sk-container-id-3 div.sk-label-container {text-align: center;}#sk-container-id-3 div.sk-container {/* jupyter's `normalize.less` sets `[hidden] { display: none; }` but bootstrap.min.css set `[hidden] { display: none !important; }` so we also need the `!important` here to be able to override the default hidden behavior on the sphinx rendered scikit-learn.org. See: https://github.com/scikit-learn/scikit-learn/issues/21755 */display: inline-block !important;position: relative;}#sk-container-id-3 div.sk-text-repr-fallback {display: none;}</style><div id=\"sk-container-id-3\" class=\"sk-top-container\"><div class=\"sk-text-repr-fallback\"><pre>LogisticRegression()</pre><b>In a Jupyter environment, please rerun this cell to show the HTML representation or trust the notebook. <br />On GitHub, the HTML representation is unable to render, please try loading this page with nbviewer.org.</b></div><div class=\"sk-container\" hidden><div class=\"sk-item\"><div class=\"sk-estimator sk-toggleable\"><input class=\"sk-toggleable__control sk-hidden--visually\" id=\"sk-estimator-id-3\" type=\"checkbox\" checked><label for=\"sk-estimator-id-3\" class=\"sk-toggleable__label sk-toggleable__label-arrow\">LogisticRegression</label><div class=\"sk-toggleable__content\"><pre>LogisticRegression()</pre></div></div></div></div></div>"
      ],
      "text/plain": [
       "LogisticRegression()"
      ]
     },
     "execution_count": 115,
     "metadata": {},
     "output_type": "execute_result"
    }
   ],
   "source": [
    "log_reg_model = LogisticRegression()\n",
    "log_reg_model.fit(x_train,y_train)"
   ]
  },
  {
   "cell_type": "code",
   "execution_count": 116,
   "id": "1dc08653",
   "metadata": {},
   "outputs": [
    {
     "data": {
      "text/plain": [
       "0.8709677419354839"
      ]
     },
     "execution_count": 116,
     "metadata": {},
     "output_type": "execute_result"
    }
   ],
   "source": [
    "log_reg_model.score(x_train,y_train)"
   ]
  },
  {
   "cell_type": "code",
   "execution_count": 117,
   "id": "c51b6ee4",
   "metadata": {},
   "outputs": [
    {
     "data": {
      "text/plain": [
       "0.9125"
      ]
     },
     "execution_count": 117,
     "metadata": {},
     "output_type": "execute_result"
    }
   ],
   "source": [
    "log_reg_model.score(x_test,y_test)"
   ]
  },
  {
   "cell_type": "code",
   "execution_count": 118,
   "id": "5d7f775c",
   "metadata": {},
   "outputs": [],
   "source": [
    "from sklearn.metrics import ConfusionMatrixDisplay\n",
    "from sklearn.preprocessing import MinMaxScaler,StandardScaler"
   ]
  },
  {
   "cell_type": "code",
   "execution_count": 119,
   "id": "6116a421",
   "metadata": {},
   "outputs": [
    {
     "data": {
      "text/plain": [
       "<sklearn.metrics._plot.confusion_matrix.ConfusionMatrixDisplay at 0x151db2f21d0>"
      ]
     },
     "execution_count": 119,
     "metadata": {},
     "output_type": "execute_result"
    },
    {
     "data": {
      "image/png": "[encoded data removed]",
      "text/plain": [
       "<Figure size 640x480 with 2 Axes>"
      ]
     },
     "metadata": {},
     "output_type": "display_data"
    }
   ],
   "source": [
    "ConfusionMatrixDisplay.from_estimator(log_reg_model,x_train,y_train)"
   ]
  },
  {
   "cell_type": "markdown",
   "id": "f4bc3b5d",
   "metadata": {},
   "source": [
    "### Train data"
   ]
  },
  {
   "cell_type": "code",
   "execution_count": 120,
   "id": "c6488de2",
   "metadata": {},
   "outputs": [
    {
     "name": "stdout",
     "output_type": "stream",
     "text": [
      "Confusion_matrix is \n",
      " [[71 12]\n",
      " [12 91]]\n",
      "Accuracy_score is : 0.8709677419354839\n",
      "classificatoion Report is :               precision    recall  f1-score   support\n",
      "\n",
      "           0       0.86      0.86      0.86        83\n",
      "           1       0.88      0.88      0.88       103\n",
      "\n",
      "    accuracy                           0.87       186\n",
      "   macro avg       0.87      0.87      0.87       186\n",
      "weighted avg       0.87      0.87      0.87       186\n",
      "\n",
      "Precision : 0.883495145631068\n",
      "Recall : 0.883495145631068\n",
      "F1 Score: 0.883495145631068\n",
      "**************************************************\n"
     ]
    }
   ],
   "source": [
    "y_pred_train = log_reg_model.predict(x_train)\n",
    "\n",
    "Confusion_matrix = confusion_matrix(y_train,y_pred_train)\n",
    "print(\"Confusion_matrix is \\n\",Confusion_matrix)\n",
    "\n",
    "Accuracy_score  = accuracy_score(y_train,y_pred_train)\n",
    "print(\"Accuracy_score is :\",Accuracy_score)\n",
    "\n",
    "clf_report = classification_report(y_train,y_pred_train)\n",
    "\n",
    "print(\"classificatoion Report is :\",clf_report)\n",
    "\n",
    "precision_value = precision_score(y_train, y_pred_train)\n",
    "print(\"Precision :\",precision_value)\n",
    "\n",
    "recall_value = recall_score(y_train, y_pred_train)\n",
    "print('Recall :',recall_value)\n",
    "\n",
    "f1_value = f1_score(y_train, y_pred_train)\n",
    "print('F1 Score:',f1_value)\n",
    "print(\"*\"* 50)\n"
   ]
  },
  {
   "cell_type": "markdown",
   "id": "058e5ca0",
   "metadata": {},
   "source": [
    "### test Data"
   ]
  },
  {
   "cell_type": "code",
   "execution_count": 121,
   "id": "aa739c44",
   "metadata": {},
   "outputs": [
    {
     "name": "stdout",
     "output_type": "stream",
     "text": [
      "Confusion_matrix is \n",
      " [[31  4]\n",
      " [ 3 42]]\n",
      "Accuracy_score is : 0.9125\n",
      "classificatoion Report is :               precision    recall  f1-score   support\n",
      "\n",
      "           0       0.91      0.89      0.90        35\n",
      "           1       0.91      0.93      0.92        45\n",
      "\n",
      "    accuracy                           0.91        80\n",
      "   macro avg       0.91      0.91      0.91        80\n",
      "weighted avg       0.91      0.91      0.91        80\n",
      "\n",
      "Precision : 0.9130434782608695\n",
      "Recall : 0.9333333333333333\n",
      "F1 Score: 0.9230769230769231\n",
      "**************************************************\n"
     ]
    }
   ],
   "source": [
    "y_pred_test = log_reg_model.predict(x_test)\n",
    "\n",
    "Confusion_matrix = confusion_matrix(y_test,y_pred_test)\n",
    "print(\"Confusion_matrix is \\n\",Confusion_matrix)\n",
    "\n",
    "Accuracy_score  = accuracy_score(y_test,y_pred_test)\n",
    "print(\"Accuracy_score is :\",Accuracy_score)\n",
    "\n",
    "clf_report = classification_report(y_test,y_pred_test)\n",
    "\n",
    "print(\"classificatoion Report is :\",clf_report)\n",
    "\n",
    "precision_value = precision_score(y_test,y_pred_test)\n",
    "print(\"Precision :\",precision_value)\n",
    "\n",
    "recall_value = recall_score(y_test,y_pred_test)\n",
    "print('Recall :',recall_value)\n",
    "\n",
    "f1_value = f1_score(y_test,y_pred_test)\n",
    "print('F1 Score:',f1_value)\n",
    "print(\"*\"* 50)\n"
   ]
  },
  {
   "cell_type": "code",
   "execution_count": 122,
   "id": "1c32a549",
   "metadata": {},
   "outputs": [
    {
     "name": "stdout",
     "output_type": "stream",
     "text": [
      "Training R-squared value is =   0.8709677419354839\n",
      "Testing R-squared value is is =   0.9125\n"
     ]
    }
   ],
   "source": [
    "train_score = log_reg_model.score(x_train,y_train)\n",
    "print('Training R-squared value is =  ',train_score)\n",
    "test_score = log_reg_model.score(x_test,y_test)\n",
    "print('Testing R-squared value is is =  ',test_score)"
   ]
  },
  {
   "cell_type": "markdown",
   "id": "4ddc4464",
   "metadata": {},
   "source": [
    "### Save Requred Data"
   ]
  },
  {
   "cell_type": "markdown",
   "id": "86de8a7f",
   "metadata": {},
   "source": [
    "### 1.Model"
   ]
  },
  {
   "cell_type": "code",
   "execution_count": 123,
   "id": "5a1c5f17",
   "metadata": {},
   "outputs": [],
   "source": [
    "with open(r\"artifacts/log_reg_model.pkl\",'wb') as f:\n",
    "    pickle.dump(log_reg_model,f)"
   ]
  },
  {
   "cell_type": "code",
   "execution_count": 124,
   "id": "b103cbd0",
   "metadata": {},
   "outputs": [
    {
     "data": {
      "text/plain": [
       "Index(['gender', 'ssc_percentage', 'ssc_board', 'hsc_percentage', 'hsc_board',\n",
       "       'degree_percentage', 'work_experience', 'emp_test_percentage',\n",
       "       'specialisation', 'mba_percent', 'hsc_subject_Arts',\n",
       "       'hsc_subject_Commerce', 'hsc_subject_Science',\n",
       "       'undergrad_degree_Comm&Mgmt', 'undergrad_degree_Others',\n",
       "       'undergrad_degree_Sci&Tech'],\n",
       "      dtype='object')"
      ]
     },
     "execution_count": 124,
     "metadata": {},
     "output_type": "execute_result"
    }
   ],
   "source": [
    "x.columns"
   ]
  },
  {
   "cell_type": "markdown",
   "id": "2275fed4",
   "metadata": {},
   "source": [
    "### 2.save columns names"
   ]
  },
  {
   "cell_type": "code",
   "execution_count": 125,
   "id": "0d523d32",
   "metadata": {},
   "outputs": [],
   "source": [
    "columns_names = x.columns\n",
    "Project_data = {\"Columns Name\": columns_names.tolist(),\n",
    "                \"Gender\":{'M': 1, 'F': 0},\n",
    "                \"Ssc_board\":{'Central': 1, 'Others': 0},\n",
    "                \"Hsc_board\":{'Others': 1, 'Central': 0},\n",
    "                \"Work_experience\":{'No': 1, 'Yes':0},\n",
    "                \"Specialisation\":{'Mkt&Fin': 1, 'Mkt&HR': 0}}\n",
    "with open(r\"artifacts/project_data1.json\",\"w\") as f:\n",
    "    json.dump(Project_data,f)\n",
    "    "
   ]
  },
  {
   "cell_type": "code",
   "execution_count": 52,
   "id": "c65f93a9",
   "metadata": {},
   "outputs": [
    {
     "data": {
      "text/plain": [
       "16"
      ]
     },
     "execution_count": 52,
     "metadata": {},
     "output_type": "execute_result"
    }
   ],
   "source": [
    "log_reg_model.n_features_in_"
   ]
  },
  {
   "cell_type": "code",
   "execution_count": 53,
   "id": "e07e9697",
   "metadata": {},
   "outputs": [],
   "source": [
    "# import pickle\n",
    "# import json\n",
    "# import config\n",
    "# import numpy as np\n",
    "\n",
    "# class JobPlacement():\n",
    "#     def __init__(self, gender, ssc_percentage, ssc_board, hsc_percentage, hsc_board, hsc_subject, degree_percentage, undergrad_degree, work_experience, emp_test_percentage, specialisation, mba_percent):\n",
    "#         self.gender = gender\n",
    "#         self.ssc_percentage = ssc_percentage\n",
    "#         self.ssc_board = ssc_board\n",
    "#         self.hsc_percentage = hsc_percentage \n",
    "#         self.hsc_board = hsc_board\n",
    "#         self.hsc_subject = hsc_subject\n",
    "#         self.degree_percentage = degree_percentage\n",
    "#         self.undergrad_degree = undergrad_degree\n",
    "#         self.work_experience = work_experience\n",
    "#         self.emp_test_percentage= emp_test_percentage\n",
    "#         self.specialisation = specialisation\n",
    "#         self.mba_percent = mba_percent\n",
    "#         return\n",
    "\n",
    "#     def __load_models(self):\n",
    "#         with open(r\"artifacts/log_reg_model.pkl\" ,'rb') as f:\n",
    "#             self.model= pickle.load(f)\n",
    "#             print('self.model >>',self.model)\n",
    "\n",
    "#         with open(r\"artifacts/project_data1.json\",'r') as f:\n",
    "#             self.project_data1 = json.load(f)\n",
    "#             print(\"Project Data is \",self.project_data1)\n",
    "    \n",
    "#     def get_pridected_price(self):\n",
    "#         self.__load_models()\n",
    "#         test_array = np.zeros(self.model.n_features_in_)\n",
    "#         test_array[0] = self.project_data1['Gender'][self.gender]\n",
    "#         test_array[1] = self.ssc_percentage\n",
    "#         test_array[2] = self.project_data1['Ssc_board'][self.ssc_board]\n",
    "#         test_array[3] = self.hsc_percentage\n",
    "#         test_array[4] = self.project_data1['Hsc_board'][self.hsc_board]\n",
    "#         test_array[5] = self.project_data1['Work_experience'][self.work_experience]\n",
    "#         test_array[6] = self.degree_percentage\n",
    "#         test_array[7] = self.work_experience\n",
    "#         test_array[8] = self.emp_test_percentage\n",
    "#         test_array[9] = self.project_data1['Specialisation'][self.specialisation]\n",
    "#         test_array[10] = self.mba_percent\n",
    "        \n",
    "#         hsc_subject = 'hsc_subject_' + self.hsc_subject\n",
    "#         index = self.project_data1[\"Columns Name\"].index(hsc_subject)\n",
    "#         undergrad_degree = 'undergrad_degree_' + self.undergrad_degree\n",
    "#         index = self.project_data1[\"Columns Name\"].index(undergrad_degree)\n",
    "\n",
    "#         test_array[index] = 1\n",
    "\n",
    "#         print(\"test array is :\",test_array)\n",
    "\n",
    "#         #test_array = self.model.transform(test_array)\n",
    "\n",
    "#         predicted_charges = np.around(self.model.predict([test_array])[0],3)\n",
    "#         print(\"Predicted Charges is :\",predicted_charges)\n",
    "\n",
    "#         return predicted_charges\n",
    "    \n",
    "# obj =JobPlacement(\"M\", 78.5,\"k\", 75.8, \"h\", \"c\",\"h\", \"yes\", 80.5, \"kl\", 80.5,78.5)  \n",
    "# obj.get_pridected_price()"
   ]
  },
  {
   "cell_type": "code",
   "execution_count": null,
   "id": "106c1d15",
   "metadata": {},
   "outputs": [],
   "source": []
  },
  {
   "cell_type": "markdown",
   "id": "1a5d2a46",
   "metadata": {},
   "source": [
    "### AUC or ROC Curve"
   ]
  },
  {
   "cell_type": "code",
   "execution_count": 54,
   "id": "85af87d4",
   "metadata": {},
   "outputs": [
    {
     "data": {
      "text/plain": [
       "(186, 16)"
      ]
     },
     "execution_count": 54,
     "metadata": {},
     "output_type": "execute_result"
    }
   ],
   "source": [
    "x_train.shape"
   ]
  },
  {
   "cell_type": "code",
   "execution_count": 55,
   "id": "0e72b377",
   "metadata": {},
   "outputs": [],
   "source": [
    "y_pred_train = log_reg_model.predict(x_train)\n",
    "y_pred_train_prob = log_reg_model.predict_proba(x_train)\n",
    "y_pred_train_prob.shape\n",
    "y_pred_train_prob_class1 = y_pred_train_prob[:,1]"
   ]
  },
  {
   "cell_type": "code",
   "execution_count": 56,
   "id": "f819a75e",
   "metadata": {},
   "outputs": [
    {
     "data": {
      "text/plain": [
       "array([0.99144091, 0.98748688, 0.9143351 , 0.05096261, 0.87419598,\n",
       "       0.9940792 , 0.05113658, 0.32754967, 0.94034642, 0.97372892,\n",
       "       0.14682041, 0.98490862, 0.05851323, 0.10923713, 0.98444291,\n",
       "       0.60409755, 0.95910474, 0.97725593, 0.28995044, 0.01952652,\n",
       "       0.08950588, 0.99550104, 0.12488467, 0.99398466, 0.06193141,\n",
       "       0.60082339, 0.93235713, 0.01691021, 0.47847773, 0.13677167,\n",
       "       0.09474684, 0.03380557, 0.3116959 , 0.84205615, 0.84454781,\n",
       "       0.44309452, 0.06328082, 0.99898057, 0.86233098, 0.93184191,\n",
       "       0.85615476, 0.17797223, 0.03709858, 0.98333912, 0.34892233,\n",
       "       0.93071305, 0.99642119, 0.67751956, 0.16511056, 0.92707282,\n",
       "       0.50235763, 0.06077982, 0.40893592, 0.99369917, 0.66376561,\n",
       "       0.99620683, 0.40272587, 0.04785307, 0.99329215, 0.26001531,\n",
       "       0.65486028, 0.89162399, 0.88280152, 0.01306101, 0.98577744,\n",
       "       0.23244875, 0.99938573, 0.03630791, 0.32462882, 0.94445502,\n",
       "       0.94510208, 0.94910382, 0.17382041, 0.02392998, 0.07504137,\n",
       "       0.98279071, 0.98915963, 0.88577973, 0.11749028, 0.91456715,\n",
       "       0.05185753, 0.9955552 , 0.99462529, 0.68071394, 0.33802479,\n",
       "       0.0276107 , 0.96894648, 0.03967378, 0.81597619, 0.51222393,\n",
       "       0.93257211, 0.41867561, 0.59472495, 0.31245863, 0.96878274,\n",
       "       0.27547516, 0.11569337, 0.84128037, 0.57569625, 0.15833489,\n",
       "       0.86425037, 0.69692435, 0.73621971, 0.90252792, 0.28697013,\n",
       "       0.98594872, 0.84206246, 0.81163751, 0.92675284, 0.41473404,\n",
       "       0.81280593, 0.69827383, 0.05641731, 0.02464748, 0.08828442,\n",
       "       0.99841173, 0.33927072, 0.01363523, 0.86029718, 0.99215087,\n",
       "       0.4246703 , 0.99385297, 0.94313878, 0.81618428, 0.22338211,\n",
       "       0.0143912 , 0.8317841 , 0.6669356 , 0.95698259, 0.94271847,\n",
       "       0.98216738, 0.34052099, 0.14346124, 0.7769242 , 0.77580532,\n",
       "       0.15035674, 0.79632701, 0.65089734, 0.01943494, 0.74709566,\n",
       "       0.00995654, 0.43134449, 0.08004561, 0.78756595, 0.00940335,\n",
       "       0.43897366, 0.08114745, 0.19880975, 0.90461709, 0.96542665,\n",
       "       0.0489955 , 0.45405991, 0.96556187, 0.0555528 , 0.01790694,\n",
       "       0.99542107, 0.12138359, 0.02968204, 0.99537559, 0.02236959,\n",
       "       0.72258959, 0.22590119, 0.52087495, 0.00770045, 0.97313758,\n",
       "       0.94747586, 0.411057  , 0.00339069, 0.05872611, 0.22943303,\n",
       "       0.04938369, 0.46550278, 0.80055097, 0.99444048, 0.835056  ,\n",
       "       0.01451962, 0.94388658, 0.82557751, 0.75291502, 0.87986624,\n",
       "       0.99600399, 0.99907404, 0.41560327, 0.89764775, 0.95618568,\n",
       "       0.97989278])"
      ]
     },
     "execution_count": 56,
     "metadata": {},
     "output_type": "execute_result"
    }
   ],
   "source": [
    "y_pred_train_prob_class1 "
   ]
  },
  {
   "cell_type": "code",
   "execution_count": 57,
   "id": "4ca4a17c",
   "metadata": {},
   "outputs": [],
   "source": [
    "fpr,tpr,threshold = roc_curve(y_train,y_pred_train_prob_class1)"
   ]
  },
  {
   "cell_type": "code",
   "execution_count": 58,
   "id": "bbf84495",
   "metadata": {},
   "outputs": [
    {
     "data": {
      "text/plain": [
       "array([0.        , 0.        , 0.        , 0.01204819, 0.01204819,\n",
       "       0.02409639, 0.02409639, 0.03614458, 0.03614458, 0.04819277,\n",
       "       0.04819277, 0.06024096, 0.06024096, 0.08433735, 0.08433735,\n",
       "       0.09638554, 0.09638554, 0.12048193, 0.12048193, 0.13253012,\n",
       "       0.13253012, 0.15662651, 0.15662651, 0.1686747 , 0.1686747 ,\n",
       "       0.19277108, 0.19277108, 0.24096386, 0.24096386, 0.25301205,\n",
       "       0.25301205, 0.31325301, 0.31325301, 0.36144578, 0.36144578,\n",
       "       0.42168675, 0.42168675, 0.4939759 , 0.4939759 , 1.        ])"
      ]
     },
     "execution_count": 58,
     "metadata": {},
     "output_type": "execute_result"
    }
   ],
   "source": [
    "fpr"
   ]
  },
  {
   "cell_type": "code",
   "execution_count": 59,
   "id": "e2bdfd0d",
   "metadata": {},
   "outputs": [
    {
     "data": {
      "text/plain": [
       "array([0.        , 0.00970874, 0.41747573, 0.41747573, 0.54368932,\n",
       "       0.54368932, 0.57281553, 0.57281553, 0.68932039, 0.68932039,\n",
       "       0.7184466 , 0.7184466 , 0.76699029, 0.76699029, 0.83495146,\n",
       "       0.83495146, 0.86407767, 0.86407767, 0.87378641, 0.87378641,\n",
       "       0.88349515, 0.88349515, 0.89320388, 0.89320388, 0.90291262,\n",
       "       0.90291262, 0.91262136, 0.91262136, 0.9223301 , 0.9223301 ,\n",
       "       0.93203883, 0.93203883, 0.96116505, 0.96116505, 0.98058252,\n",
       "       0.98058252, 0.99029126, 0.99029126, 1.        , 1.        ])"
      ]
     },
     "execution_count": 59,
     "metadata": {},
     "output_type": "execute_result"
    }
   ],
   "source": [
    "tpr"
   ]
  },
  {
   "cell_type": "code",
   "execution_count": 60,
   "id": "b646d235",
   "metadata": {},
   "outputs": [
    {
     "data": {
      "text/plain": [
       "array([1.99938573, 0.99938573, 0.94510208, 0.94445502, 0.90461709,\n",
       "       0.90252792, 0.88577973, 0.88280152, 0.8317841 , 0.82557751,\n",
       "       0.81280593, 0.81163751, 0.77580532, 0.74709566, 0.6669356 ,\n",
       "       0.66376561, 0.60409755, 0.59472495, 0.57569625, 0.52087495,\n",
       "       0.51222393, 0.47847773, 0.46550278, 0.45405991, 0.44309452,\n",
       "       0.43134449, 0.4246703 , 0.411057  , 0.40893592, 0.40272587,\n",
       "       0.34892233, 0.32462882, 0.28995044, 0.23244875, 0.22590119,\n",
       "       0.16511056, 0.15833489, 0.12138359, 0.11749028, 0.00339069])"
      ]
     },
     "execution_count": 60,
     "metadata": {},
     "output_type": "execute_result"
    }
   ],
   "source": [
    "threshold"
   ]
  },
  {
   "cell_type": "code",
   "execution_count": 61,
   "id": "8d368d70",
   "metadata": {},
   "outputs": [
    {
     "data": {
      "image/png": "[encoded data removed]",
      "text/plain": [
       "<Figure size 640x480 with 1 Axes>"
      ]
     },
     "metadata": {},
     "output_type": "display_data"
    }
   ],
   "source": [
    "plt.plot(fpr,tpr)\n",
    "plt.xlabel('False Positive Rate')\n",
    "plt.ylabel('True Positive Rate')\n",
    "plt.title(\"ROC Curve\")\n",
    "plt.savefig('ROC_Curve.png')"
   ]
  },
  {
   "cell_type": "markdown",
   "id": "b97872dd",
   "metadata": {},
   "source": [
    "### Ridge Regression "
   ]
  },
  {
   "cell_type": "code",
   "execution_count": 62,
   "id": "38ce3081",
   "metadata": {},
   "outputs": [
    {
     "data": {
      "text/plain": [
       "array([[ 0.31493464,  0.04695936,  0.07145581,  0.00909866,  0.13008953,\n",
       "         0.03447694, -0.29225492, -0.00376182,  0.20090823, -0.04080212,\n",
       "         0.64710084,  0.27871273,  0.44050602,  0.52874904,  0.18047527,\n",
       "         0.15052098]])"
      ]
     },
     "execution_count": 62,
     "metadata": {},
     "output_type": "execute_result"
    }
   ],
   "source": [
    "ridge_model = RidgeClassifier(alpha = 0.1)\n",
    "ridge_model.fit(x_train, y_train)\n",
    "ridge_model.coef_\n"
   ]
  },
  {
   "cell_type": "code",
   "execution_count": 63,
   "id": "5f29d93d",
   "metadata": {},
   "outputs": [
    {
     "name": "stdout",
     "output_type": "stream",
     "text": [
      "Confusion Matrix :\n",
      " [[73 10]\n",
      " [ 9 94]]\n",
      "**************************************************\n",
      "Accuracy is : 0.8978494623655914\n",
      "**************************************************\n",
      "Classification Report :\n",
      "               precision    recall  f1-score   support\n",
      "\n",
      "           0       0.89      0.88      0.88        83\n",
      "           1       0.90      0.91      0.91       103\n",
      "\n",
      "    accuracy                           0.90       186\n",
      "   macro avg       0.90      0.90      0.90       186\n",
      "weighted avg       0.90      0.90      0.90       186\n",
      "\n",
      "**************************************************\n",
      "Precision : 0.9038461538461539\n",
      "Recall_value is  0.912621359223301\n",
      "F1 Score: 0.9082125603864736\n"
     ]
    }
   ],
   "source": [
    "# Evaluation on Training Dataset\n",
    "\n",
    "y_pred = ridge_model.predict(x_train)\n",
    "\n",
    "cnf_matrix = confusion_matrix(y_train, y_pred)\n",
    "print(\"Confusion Matrix :\\n\", cnf_matrix)\n",
    "print(\"*\"* 50)\n",
    "\n",
    "accuracy = accuracy_score(y_train, y_pred)\n",
    "print(\"Accuracy is :\",accuracy)\n",
    "print(\"*\"* 50)\n",
    "\n",
    "clf_report = classification_report(y_train, y_pred)\n",
    "print('Classification Report :\\n',clf_report)\n",
    "print(\"*\"* 50)\n",
    "\n",
    "precision_value = precision_score(y_train, y_pred)\n",
    "print(\"Precision :\",precision_value)\n",
    "\n",
    "recall_value = recall_score(y_train,y_pred)\n",
    "print(\"Recall_value is \",recall_value)\n",
    "\n",
    "f1_value = f1_score(y_train, y_pred)\n",
    "print('F1 Score:',f1_value)"
   ]
  },
  {
   "cell_type": "code",
   "execution_count": 64,
   "id": "377c1221",
   "metadata": {},
   "outputs": [
    {
     "name": "stdout",
     "output_type": "stream",
     "text": [
      "Confusion Matrix :\n",
      " [[34  1]\n",
      " [ 4 41]]\n",
      "**************************************************\n",
      "Accuracy is : 0.9375\n",
      "**************************************************\n",
      "Classification Report :\n",
      "               precision    recall  f1-score   support\n",
      "\n",
      "           0       0.89      0.97      0.93        35\n",
      "           1       0.98      0.91      0.94        45\n",
      "\n",
      "    accuracy                           0.94        80\n",
      "   macro avg       0.94      0.94      0.94        80\n",
      "weighted avg       0.94      0.94      0.94        80\n",
      "\n",
      "**************************************************\n",
      "Precision : 0.9761904761904762\n",
      "Recall : 0.9111111111111111\n",
      "F1 Score: 0.9425287356321839\n",
      "**************************************************\n"
     ]
    }
   ],
   "source": [
    "# Evaluation on Testing Dataset\n",
    "\n",
    "y_pred = ridge_model.predict(x_test)\n",
    "\n",
    "cnf_matrix = confusion_matrix(y_test, y_pred)\n",
    "print(\"Confusion Matrix :\\n\", cnf_matrix)\n",
    "print(\"*\"* 50)\n",
    "\n",
    "accuracy = accuracy_score(y_test, y_pred)\n",
    "print(\"Accuracy is :\",accuracy)\n",
    "print(\"*\"* 50)\n",
    "\n",
    "clf_report = classification_report(y_test, y_pred)\n",
    "print('Classification Report :\\n',clf_report)\n",
    "print(\"*\"* 50)\n",
    "\n",
    "precision_value = precision_score(y_test,y_pred)\n",
    "print(\"Precision :\",precision_value)\n",
    "\n",
    "recall_value = recall_score(y_test,y_pred)\n",
    "print('Recall :',recall_value)\n",
    "\n",
    "f1_value = f1_score(y_test, y_pred)\n",
    "print('F1 Score:',f1_value)\n",
    "print(\"*\"* 50)\n"
   ]
  },
  {
   "cell_type": "markdown",
   "id": "9fa420e3",
   "metadata": {},
   "source": [
    "### Save The Model"
   ]
  },
  {
   "cell_type": "markdown",
   "id": "17235fa5",
   "metadata": {},
   "source": [
    "### 1.Model"
   ]
  },
  {
   "cell_type": "code",
   "execution_count": 65,
   "id": "79e679ae",
   "metadata": {},
   "outputs": [],
   "source": [
    "with open(r\"artifacts/ridge_reg_model.pkl\",'wb') as f:\n",
    "    pickle.dump(ridge_model,f)"
   ]
  },
  {
   "cell_type": "code",
   "execution_count": null,
   "id": "32f85392",
   "metadata": {},
   "outputs": [],
   "source": []
  },
  {
   "cell_type": "code",
   "execution_count": null,
   "id": "87bb1cc0",
   "metadata": {},
   "outputs": [],
   "source": []
  },
  {
   "cell_type": "markdown",
   "id": "ef1b92c8",
   "metadata": {},
   "source": [
    "### L1 Regularization"
   ]
  },
  {
   "cell_type": "code",
   "execution_count": null,
   "id": "3344b3bf",
   "metadata": {},
   "outputs": [],
   "source": []
  },
  {
   "cell_type": "markdown",
   "id": "57cb1655",
   "metadata": {},
   "source": [
    "### KNN Alogorithm"
   ]
  },
  {
   "cell_type": "code",
   "execution_count": 66,
   "id": "e77adf38",
   "metadata": {},
   "outputs": [
    {
     "data": {
      "text/html": [
       "<style>#sk-container-id-2 {color: black;background-color: white;}#sk-container-id-2 pre{padding: 0;}#sk-container-id-2 div.sk-toggleable {background-color: white;}#sk-container-id-2 label.sk-toggleable__label {cursor: pointer;display: block;width: 100%;margin-bottom: 0;padding: 0.3em;box-sizing: border-box;text-align: center;}#sk-container-id-2 label.sk-toggleable__label-arrow:before {content: \"▸\";float: left;margin-right: 0.25em;color: #696969;}#sk-container-id-2 label.sk-toggleable__label-arrow:hover:before {color: black;}#sk-container-id-2 div.sk-estimator:hover label.sk-toggleable__label-arrow:before {color: black;}#sk-container-id-2 div.sk-toggleable__content {max-height: 0;max-width: 0;overflow: hidden;text-align: left;background-color: #f0f8ff;}#sk-container-id-2 div.sk-toggleable__content pre {margin: 0.2em;color: black;border-radius: 0.25em;background-color: #f0f8ff;}#sk-container-id-2 input.sk-toggleable__control:checked~div.sk-toggleable__content {max-height: 200px;max-width: 100%;overflow: auto;}#sk-container-id-2 input.sk-toggleable__control:checked~label.sk-toggleable__label-arrow:before {content: \"▾\";}#sk-container-id-2 div.sk-estimator input.sk-toggleable__control:checked~label.sk-toggleable__label {background-color: #d4ebff;}#sk-container-id-2 div.sk-label input.sk-toggleable__control:checked~label.sk-toggleable__label {background-color: #d4ebff;}#sk-container-id-2 input.sk-hidden--visually {border: 0;clip: rect(1px 1px 1px 1px);clip: rect(1px, 1px, 1px, 1px);height: 1px;margin: -1px;overflow: hidden;padding: 0;position: absolute;width: 1px;}#sk-container-id-2 div.sk-estimator {font-family: monospace;background-color: #f0f8ff;border: 1px dotted black;border-radius: 0.25em;box-sizing: border-box;margin-bottom: 0.5em;}#sk-container-id-2 div.sk-estimator:hover {background-color: #d4ebff;}#sk-container-id-2 div.sk-parallel-item::after {content: \"\";width: 100%;border-bottom: 1px solid gray;flex-grow: 1;}#sk-container-id-2 div.sk-label:hover label.sk-toggleable__label {background-color: #d4ebff;}#sk-container-id-2 div.sk-serial::before {content: \"\";position: absolute;border-left: 1px solid gray;box-sizing: border-box;top: 0;bottom: 0;left: 50%;z-index: 0;}#sk-container-id-2 div.sk-serial {display: flex;flex-direction: column;align-items: center;background-color: white;padding-right: 0.2em;padding-left: 0.2em;position: relative;}#sk-container-id-2 div.sk-item {position: relative;z-index: 1;}#sk-container-id-2 div.sk-parallel {display: flex;align-items: stretch;justify-content: center;background-color: white;position: relative;}#sk-container-id-2 div.sk-item::before, #sk-container-id-2 div.sk-parallel-item::before {content: \"\";position: absolute;border-left: 1px solid gray;box-sizing: border-box;top: 0;bottom: 0;left: 50%;z-index: -1;}#sk-container-id-2 div.sk-parallel-item {display: flex;flex-direction: column;z-index: 1;position: relative;background-color: white;}#sk-container-id-2 div.sk-parallel-item:first-child::after {align-self: flex-end;width: 50%;}#sk-container-id-2 div.sk-parallel-item:last-child::after {align-self: flex-start;width: 50%;}#sk-container-id-2 div.sk-parallel-item:only-child::after {width: 0;}#sk-container-id-2 div.sk-dashed-wrapped {border: 1px dashed gray;margin: 0 0.4em 0.5em 0.4em;box-sizing: border-box;padding-bottom: 0.4em;background-color: white;}#sk-container-id-2 div.sk-label label {font-family: monospace;font-weight: bold;display: inline-block;line-height: 1.2em;}#sk-container-id-2 div.sk-label-container {text-align: center;}#sk-container-id-2 div.sk-container {/* jupyter's `normalize.less` sets `[hidden] { display: none; }` but bootstrap.min.css set `[hidden] { display: none !important; }` so we also need the `!important` here to be able to override the default hidden behavior on the sphinx rendered scikit-learn.org. See: https://github.com/scikit-learn/scikit-learn/issues/21755 */display: inline-block !important;position: relative;}#sk-container-id-2 div.sk-text-repr-fallback {display: none;}</style><div id=\"sk-container-id-2\" class=\"sk-top-container\"><div class=\"sk-text-repr-fallback\"><pre>KNeighborsClassifier()</pre><b>In a Jupyter environment, please rerun this cell to show the HTML representation or trust the notebook. <br />On GitHub, the HTML representation is unable to render, please try loading this page with nbviewer.org.</b></div><div class=\"sk-container\" hidden><div class=\"sk-item\"><div class=\"sk-estimator sk-toggleable\"><input class=\"sk-toggleable__control sk-hidden--visually\" id=\"sk-estimator-id-2\" type=\"checkbox\" checked><label for=\"sk-estimator-id-2\" class=\"sk-toggleable__label sk-toggleable__label-arrow\">KNeighborsClassifier</label><div class=\"sk-toggleable__content\"><pre>KNeighborsClassifier()</pre></div></div></div></div></div>"
      ],
      "text/plain": [
       "KNeighborsClassifier()"
      ]
     },
     "execution_count": 66,
     "metadata": {},
     "output_type": "execute_result"
    }
   ],
   "source": [
    "knn_clf = KNeighborsClassifier(n_neighbors=5 ,p=2)\n",
    "knn_clf.fit(x_train,y_train)"
   ]
  },
  {
   "cell_type": "code",
   "execution_count": 67,
   "id": "8ed1ecff",
   "metadata": {},
   "outputs": [
    {
     "name": "stdout",
     "output_type": "stream",
     "text": [
      "Confusion Matrix :\n",
      " [[68 15]\n",
      " [10 93]]\n",
      "Accuracy : 0.8655913978494624\n",
      "Classification Report :\n",
      "               precision    recall  f1-score   support\n",
      "\n",
      "           0       0.87      0.82      0.84        83\n",
      "           1       0.86      0.90      0.88       103\n",
      "\n",
      "    accuracy                           0.87       186\n",
      "   macro avg       0.87      0.86      0.86       186\n",
      "weighted avg       0.87      0.87      0.87       186\n",
      "\n"
     ]
    }
   ],
   "source": [
    "# Traning Data Evaluation\n",
    "\n",
    "y_pred_train = knn_clf.predict(x_train)\n",
    "\n",
    "cnf_matrix = confusion_matrix(y_train,y_pred_train)\n",
    "print('Confusion Matrix :\\n',cnf_matrix)\n",
    "\n",
    "accuracy = accuracy_score(y_train,y_pred_train)\n",
    "print('Accuracy :',accuracy)\n",
    "\n",
    "clf_report = classification_report(y_train,y_pred_train)\n",
    "print('Classification Report :\\n',clf_report)"
   ]
  },
  {
   "cell_type": "code",
   "execution_count": 68,
   "id": "e02c1e69",
   "metadata": {},
   "outputs": [
    {
     "name": "stdout",
     "output_type": "stream",
     "text": [
      "Confusion Matix : [[27  8]\n",
      " [ 6 39]]\n",
      "Accuracy : 0.825\n",
      "Classification Report :\n",
      "               precision    recall  f1-score   support\n",
      "\n",
      "           0       0.82      0.77      0.79        35\n",
      "           1       0.83      0.87      0.85        45\n",
      "\n",
      "    accuracy                           0.82        80\n",
      "   macro avg       0.82      0.82      0.82        80\n",
      "weighted avg       0.82      0.82      0.82        80\n",
      "\n"
     ]
    }
   ],
   "source": [
    "# Testing Data Evaluation\n",
    "\n",
    "y_pred = knn_clf.predict(x_test)\n",
    "\n",
    "cnf_matrix = confusion_matrix(y_test,y_pred)\n",
    "print('Confusion Matix :',cnf_matrix)\n",
    "\n",
    "accuracy = accuracy_score(y_test,y_pred)\n",
    "print('Accuracy :',accuracy)\n",
    "\n",
    "clf_report = classification_report(y_test,y_pred)\n",
    "print('Classification Report :\\n',clf_report)"
   ]
  },
  {
   "cell_type": "code",
   "execution_count": 69,
   "id": "91662b36",
   "metadata": {},
   "outputs": [],
   "source": [
    "train_accuracy_list = []\n",
    "test_accuracy_list = list()\n",
    "k_values = np.arange(3,20)\n",
    "for k in k_values:\n",
    "    knn_clf = KNeighborsClassifier(n_neighbors=k, p=1)\n",
    "    knn_clf.fit(x_train, y_train)\n",
    "    \n",
    "    train_accuracy = np.around(knn_clf.score(x_train, y_train),3)\n",
    "    train_accuracy_list.append(train_accuracy)\n",
    "    \n",
    "    test_accuracy = np.around(knn_clf.score(x_test, y_test),3)\n",
    "    test_accuracy_list.append(test_accuracy)\n"
   ]
  },
  {
   "cell_type": "code",
   "execution_count": 70,
   "id": "33a44708",
   "metadata": {},
   "outputs": [
    {
     "data": {
      "image/png": "[encoded data removed]",
      "text/plain": [
       "<Figure size 640x480 with 1 Axes>"
      ]
     },
     "metadata": {},
     "output_type": "display_data"
    }
   ],
   "source": [
    "plt.plot(k_values, train_accuracy_list)\n",
    "plt.plot(k_values, test_accuracy_list)\n",
    "plt.xlabel(\"K Values\")\n",
    "plt.ylabel('Accuracies')\n",
    "plt.title(\"Train and Test Accuracies with Euclidean Distance\")\n",
    "plt.savefig(\"Accuracy_ED.png\")"
   ]
  },
  {
   "cell_type": "code",
   "execution_count": 71,
   "id": "0aae2508",
   "metadata": {},
   "outputs": [
    {
     "name": "stdout",
     "output_type": "stream",
     "text": [
      "Confusion Matrix :\n",
      " [[72 11]\n",
      " [11 92]]\n",
      "Accuracy : 0.8817204301075269\n",
      "Classification Report :\n",
      "               precision    recall  f1-score   support\n",
      "\n",
      "           0       0.87      0.87      0.87        83\n",
      "           1       0.89      0.89      0.89       103\n",
      "\n",
      "    accuracy                           0.88       186\n",
      "   macro avg       0.88      0.88      0.88       186\n",
      "weighted avg       0.88      0.88      0.88       186\n",
      "\n"
     ]
    }
   ],
   "source": [
    "knn_clf = KNeighborsClassifier(n_neighbors=9, p=1)\n",
    "knn_clf.fit(x_train, y_train)\n",
    "\n",
    "# Training Data Evaluation\n",
    "\n",
    "y_pred_train = knn_clf.predict(x_train)\n",
    "\n",
    "cnf_matrix = confusion_matrix(y_train, y_pred_train)\n",
    "print(\"Confusion Matrix :\\n\", cnf_matrix)\n",
    "\n",
    "accuracy = accuracy_score(y_train, y_pred_train)\n",
    "print(\"Accuracy :\", accuracy)\n",
    "\n",
    "clf_report = classification_report(y_train, y_pred_train)\n",
    "print(\"Classification Report :\\n\", clf_report)"
   ]
  },
  {
   "cell_type": "code",
   "execution_count": 72,
   "id": "853dc6c6",
   "metadata": {},
   "outputs": [
    {
     "name": "stdout",
     "output_type": "stream",
     "text": [
      "Confusion Matrix :\n",
      " [[28  7]\n",
      " [ 5 40]]\n",
      "Accuracy : 0.85\n",
      "Classification Report :\n",
      "               precision    recall  f1-score   support\n",
      "\n",
      "           0       0.85      0.80      0.82        35\n",
      "           1       0.85      0.89      0.87        45\n",
      "\n",
      "    accuracy                           0.85        80\n",
      "   macro avg       0.85      0.84      0.85        80\n",
      "weighted avg       0.85      0.85      0.85        80\n",
      "\n"
     ]
    }
   ],
   "source": [
    "# Testing Data Evaluation\n",
    "\n",
    "y_pred = knn_clf.predict(x_test)\n",
    "\n",
    "cnf_matrix = confusion_matrix(y_test, y_pred)\n",
    "print(\"Confusion Matrix :\\n\", cnf_matrix)\n",
    "\n",
    "accuracy = accuracy_score(y_test, y_pred)\n",
    "print(\"Accuracy :\", accuracy)\n",
    "\n",
    "clf_report = classification_report(y_test, y_pred)\n",
    "print(\"Classification Report :\\n\", clf_report)"
   ]
  },
  {
   "cell_type": "markdown",
   "id": "7848cd51",
   "metadata": {},
   "source": [
    "### KNN Scalling"
   ]
  },
  {
   "cell_type": "code",
   "execution_count": 73,
   "id": "9cf3cba7",
   "metadata": {},
   "outputs": [],
   "source": [
    "# normal_scaler = MinMaxScaler()\n",
    "# array = normal_scaler.fit_transform(x)\n",
    "# dfx = pd.DataFrame(array,columns= x.columns)\n",
    "# dfx"
   ]
  },
  {
   "cell_type": "code",
   "execution_count": 74,
   "id": "cce5ec3e",
   "metadata": {},
   "outputs": [],
   "source": [
    "# x_train,x_test,y_train,y_test = train_test_split(dfx,y,test_size=0.2,random_state=30)\n",
    "# KNN_reg = KNeighborsRegressor(n_neighbors=3,p=1)\n",
    "# KNN_reg.fit(x_train,y_train)"
   ]
  },
  {
   "cell_type": "code",
   "execution_count": 75,
   "id": "2a317923",
   "metadata": {},
   "outputs": [],
   "source": [
    "# y_pred_train = knn_clf.predict(x_train)\n",
    "\n",
    "# cnf_matrix = confusion_matrix(y_train, y_pred_train)\n",
    "# print(\"Confusion Matrix :\\n\", cnf_matrix)\n",
    "\n",
    "# accuracy = accuracy_score(y_train, y_pred_train)\n",
    "# print(\"Accuracy :\", accuracy)\n",
    "\n",
    "# clf_report = classification_report(y_train, y_pred_train)\n",
    "# print(\"Classification Report :\\n\", clf_report)"
   ]
  },
  {
   "cell_type": "code",
   "execution_count": 76,
   "id": "4ef73573",
   "metadata": {},
   "outputs": [
    {
     "data": {
      "text/plain": [
       "Index(['gender', 'ssc_percentage', 'ssc_board', 'hsc_percentage', 'hsc_board',\n",
       "       'degree_percentage', 'work_experience', 'emp_test_percentage',\n",
       "       'specialisation', 'mba_percent', 'hsc_subject_Arts',\n",
       "       'hsc_subject_Commerce', 'hsc_subject_Science',\n",
       "       'undergrad_degree_Comm&Mgmt', 'undergrad_degree_Others',\n",
       "       'undergrad_degree_Sci&Tech'],\n",
       "      dtype='object')"
      ]
     },
     "execution_count": 76,
     "metadata": {},
     "output_type": "execute_result"
    }
   ],
   "source": [
    "x.columns"
   ]
  },
  {
   "cell_type": "markdown",
   "id": "a7018182",
   "metadata": {},
   "source": [
    "### Save Requared Data"
   ]
  },
  {
   "cell_type": "markdown",
   "id": "82d5dd21",
   "metadata": {},
   "source": [
    "### 1.Model Data"
   ]
  },
  {
   "cell_type": "code",
   "execution_count": 77,
   "id": "7d761c42",
   "metadata": {},
   "outputs": [],
   "source": [
    "with open(r\"artifacts/knn_reg_model.pkl\",'wb') as f:\n",
    "    pickle.dump(knn_clf,f)"
   ]
  },
  {
   "cell_type": "code",
   "execution_count": null,
   "id": "ebe04c63",
   "metadata": {},
   "outputs": [],
   "source": []
  },
  {
   "cell_type": "code",
   "execution_count": null,
   "id": "5df6f599",
   "metadata": {},
   "outputs": [],
   "source": []
  },
  {
   "cell_type": "code",
   "execution_count": null,
   "id": "91a117e7",
   "metadata": {},
   "outputs": [],
   "source": []
  },
  {
   "cell_type": "code",
   "execution_count": null,
   "id": "1be65eb7",
   "metadata": {},
   "outputs": [],
   "source": []
  },
  {
   "cell_type": "code",
   "execution_count": null,
   "id": "61d3b5bf",
   "metadata": {},
   "outputs": [],
   "source": []
  },
  {
   "cell_type": "code",
   "execution_count": null,
   "id": "9e80fab6",
   "metadata": {},
   "outputs": [],
   "source": []
  },
  {
   "cell_type": "code",
   "execution_count": null,
   "id": "a55e64f3",
   "metadata": {},
   "outputs": [],
   "source": []
  },
  {
   "cell_type": "code",
   "execution_count": null,
   "id": "0530a61f",
   "metadata": {},
   "outputs": [],
   "source": []
  },
  {
   "cell_type": "code",
   "execution_count": null,
   "id": "06458c11",
   "metadata": {},
   "outputs": [],
   "source": []
  },
  {
   "cell_type": "code",
   "execution_count": null,
   "id": "183c0008",
   "metadata": {},
   "outputs": [],
   "source": []
  },
  {
   "cell_type": "code",
   "execution_count": null,
   "id": "ab96fcd7",
   "metadata": {},
   "outputs": [],
   "source": []
  },
  {
   "cell_type": "code",
   "execution_count": null,
   "id": "be69dcb1",
   "metadata": {},
   "outputs": [],
   "source": []
  },
  {
   "cell_type": "code",
   "execution_count": 78,
   "id": "a0e6971e",
   "metadata": {},
   "outputs": [
    {
     "name": "stdout",
     "output_type": "stream",
     "text": [
      " * Serving Flask app '__main__'\n",
      " * Debug mode: on\n"
     ]
    },
    {
     "name": "stderr",
     "output_type": "stream",
     "text": [
      "WARNING: This is a development server. Do not use it in a production deployment. Use a production WSGI server instead.\n",
      " * Running on all addresses (0.0.0.0)\n",
      " * Running on http://127.0.0.1:1994\n",
      " * Running on http://192.168.1.6:1994\n",
      "Press CTRL+C to quit\n",
      " * Restarting with stat\n"
     ]
    },
    {
     "ename": "SystemExit",
     "evalue": "1",
     "output_type": "error",
     "traceback": [
      "An exception has occurred, use %tb to see the full traceback.\n",
      "\u001b[1;31mSystemExit\u001b[0m\u001b[1;31m:\u001b[0m 1\n"
     ]
    },
    {
     "name": "stderr",
     "output_type": "stream",
     "text": [
      "C:\\Users\\amol\\AppData\\Local\\Programs\\Python\\Python310\\lib\\site-packages\\IPython\\core\\interactiveshell.py:3386: UserWarning: To exit: use 'exit', 'quit', or Ctrl-D.\n",
      "  warn(\"To exit: use 'exit', 'quit', or Ctrl-D.\", stacklevel=1)\n"
     ]
    }
   ],
   "source": [
    "from flask import Flask,render_template,jsonify,request\n",
    "from utils1 import JobPlacement\n",
    "import config\n",
    "\n",
    "app = Flask(__name__)\n",
    "\n",
    "@app.route(\"/index\")\n",
    "def home():\n",
    "    return render_template(\"index1.html\")\n",
    "\n",
    "@app.route(\"/predict_charges\")\n",
    "def predict_charges():\n",
    "    #if request.method == \"POST\":\n",
    "    data = request.form\n",
    "\n",
    "    print(\"User Data is :\",data)\n",
    "    gender   = data[\"gender\"]\n",
    "    ssc_percentage   = eval(data[\"ssc_percentage\"])\n",
    "    ssc_board      = data['ssc_board']\n",
    "    hsc_percentage = eval(data[\"hsc_percentage\"])\n",
    "    hsc_board   = data[\"hsc_board\"]\n",
    "    hsc_subject = data[\"hsc_subject\"]\n",
    "    degree_percentage   = eval(data[\"degree_percentage\"])\n",
    "    undergrad_degree   = data[\"undergrad_degree\"]\n",
    "    work_experience   = data[\"work_experience\"]\n",
    "    emp_test_percentage   = eval(data[\"emp_test_percentage\"])\n",
    "    specialisation   = data[\"specialisation\"]\n",
    "    mba_percent   = eval(data[\"mba_percent\"])\n",
    "    \n",
    "        \n",
    "    \n",
    "    job_placement = JobPlacement(gender,ssc_percentage,ssc_board,hsc_percentage,hsc_board,hsc_subject,degree_percentage,undergrad_degree,work_experience,emp_test_percentage,specialisation,mba_percent)\n",
    "    charges = job_placement.get_pridected_price()\n",
    "    \n",
    "    \n",
    "    return jsonify({\"Result \" :f\"Job Placement Charges will be :{charges}\"})\n",
    "    \n",
    "    #return render_template(\"index.html\", prediction =charges) \n",
    "\n",
    "\n",
    "\n",
    "if __name__ == \"__main__\":\n",
    "    app.run(host = \"0.0.0.0\", port = 1994,debug=True)  \n",
    "\n",
    "            \n"
   ]
  },
  {
   "cell_type": "code",
   "execution_count": null,
   "id": "e5d32221",
   "metadata": {},
   "outputs": [],
   "source": []
  },
  {
   "cell_type": "code",
   "execution_count": null,
   "id": "ad3dad19",
   "metadata": {},
   "outputs": [],
   "source": []
  },
  {
   "cell_type": "code",
   "execution_count": null,
   "id": "da293d09",
   "metadata": {},
   "outputs": [],
   "source": []
  }
 ],
 "metadata": {
  "kernelspec": {
   "display_name": "Python 3 (ipykernel)",
   "language": "python",
   "name": "python3"
  },
  "language_info": {
   "codemirror_mode": {
    "name": "ipython",
    "version": 3
   },
   "file_extension": ".py",
   "mimetype": "text/x-python",
   "name": "python",
   "nbconvert_exporter": "python",
   "pygments_lexer": "ipython3",
   "version": "3.10.7"
  }
 },
 "nbformat": 4,
 "nbformat_minor": 5
}
